{
 "cells": [
  {
   "cell_type": "code",
   "execution_count": 1,
   "metadata": {},
   "outputs": [],
   "source": [
    "import pandas as pd\n",
    "import numpy as np\n",
    "from ast import literal_eval"
   ]
  },
  {
   "cell_type": "code",
   "execution_count": 2,
   "metadata": {},
   "outputs": [],
   "source": [
    "df_authors = pd.read_csv('data/authors.csv')\n",
    "df_categories = pd.read_csv('data/categories.csv')\n",
    "df_formats = pd.read_csv('data/formats.csv')\n",
    "df = pd.read_csv('data/dataset.csv')"
   ]
  },
  {
   "cell_type": "code",
   "execution_count": 3,
   "metadata": {},
   "outputs": [
    {
     "data": {
      "text/plain": [
       "authors                   0\n",
       "bestsellers-rank      10989\n",
       "categories                0\n",
       "description            2412\n",
       "dimension-x            1279\n",
       "dimension-y            2145\n",
       "dimension-z            1279\n",
       "edition               18059\n",
       "edition-statement     15060\n",
       "for-ages              20015\n",
       "format                  193\n",
       "id                        0\n",
       "illustrations-note    13649\n",
       "image-checksum            0\n",
       "image-path                0\n",
       "image-url                 0\n",
       "imprint               16105\n",
       "index-date            20216\n",
       "isbn10                    0\n",
       "isbn13                    0\n",
       "lang                   1371\n",
       "publication-date         25\n",
       "publication-place     20216\n",
       "rating-avg             9855\n",
       "rating-count           9855\n",
       "title                     0\n",
       "url                       0\n",
       "weight                 1883\n",
       "dtype: int64"
      ]
     },
     "execution_count": 3,
     "metadata": {},
     "output_type": "execute_result"
    }
   ],
   "source": [
    "df.isna().sum()"
   ]
  },
  {
   "cell_type": "code",
   "execution_count": 4,
   "metadata": {},
   "outputs": [
    {
     "data": {
      "text/plain": [
       "20216"
      ]
     },
     "execution_count": 4,
     "metadata": {},
     "output_type": "execute_result"
    }
   ],
   "source": [
    "df['id'].nunique()"
   ]
  },
  {
   "cell_type": "code",
   "execution_count": 5,
   "metadata": {},
   "outputs": [
    {
     "data": {
      "text/plain": [
       "category_id      0\n",
       "category_name    0\n",
       "dtype: int64"
      ]
     },
     "execution_count": 5,
     "metadata": {},
     "output_type": "execute_result"
    }
   ],
   "source": [
    "df_categories.isna().sum()"
   ]
  },
  {
   "cell_type": "code",
   "execution_count": 6,
   "metadata": {},
   "outputs": [
    {
     "data": {
      "text/plain": [
       "author_id      0\n",
       "author_name    1\n",
       "dtype: int64"
      ]
     },
     "execution_count": 6,
     "metadata": {},
     "output_type": "execute_result"
    }
   ],
   "source": [
    "df_authors.isna().sum()"
   ]
  },
  {
   "cell_type": "code",
   "execution_count": 7,
   "metadata": {},
   "outputs": [
    {
     "data": {
      "text/plain": [
       "(20216, 28)"
      ]
     },
     "execution_count": 7,
     "metadata": {},
     "output_type": "execute_result"
    }
   ],
   "source": [
    "df.shape"
   ]
  },
  {
   "cell_type": "code",
   "execution_count": 8,
   "metadata": {},
   "outputs": [
    {
     "data": {
      "text/plain": [
       "authors                   0\n",
       "bestsellers-rank      10989\n",
       "categories                0\n",
       "description            2412\n",
       "dimension-x            1279\n",
       "dimension-y            2145\n",
       "dimension-z            1279\n",
       "edition               18059\n",
       "edition-statement     15060\n",
       "for-ages              20015\n",
       "format                  193\n",
       "id                        0\n",
       "illustrations-note    13649\n",
       "image-checksum            0\n",
       "image-path                0\n",
       "image-url                 0\n",
       "imprint               16105\n",
       "index-date            20216\n",
       "isbn10                    0\n",
       "isbn13                    0\n",
       "lang                   1371\n",
       "publication-date         25\n",
       "publication-place     20216\n",
       "rating-avg             9855\n",
       "rating-count           9855\n",
       "title                     0\n",
       "url                       0\n",
       "weight                 1883\n",
       "dtype: int64"
      ]
     },
     "execution_count": 8,
     "metadata": {},
     "output_type": "execute_result"
    }
   ],
   "source": [
    "df.isna().sum()"
   ]
  },
  {
   "cell_type": "markdown",
   "metadata": {},
   "source": [
    "### Ajustando valores nulos das colunas que serão utilizadas para análise"
   ]
  },
  {
   "cell_type": "code",
   "execution_count": 9,
   "metadata": {},
   "outputs": [],
   "source": [
    "df_authors['author_name'] = df_authors['author_name'].fillna('Sem nome')\n",
    "df['bestsellers-rank'] = df['bestsellers-rank'].fillna(0)\n",
    "df['rating-avg'] = df['rating-avg'].fillna(0)\n",
    "df['publication-date'] = df['publication-date'].fillna('0000-00-00')\n",
    "df['format'] = df['format'].fillna(23) # Adicionando os valores NaN da coluna format para o formato de \"Undefined\" disposto no formats.csv"
   ]
  },
  {
   "cell_type": "code",
   "execution_count": 10,
   "metadata": {},
   "outputs": [],
   "source": [
    "df['book_id'] = df.index"
   ]
  },
  {
   "cell_type": "code",
   "execution_count": 11,
   "metadata": {},
   "outputs": [
    {
     "data": {
      "text/plain": [
       "20216"
      ]
     },
     "execution_count": 11,
     "metadata": {},
     "output_type": "execute_result"
    }
   ],
   "source": [
    "df.book_id.nunique()"
   ]
  },
  {
   "cell_type": "markdown",
   "metadata": {},
   "source": [
    "### Unpack authors"
   ]
  },
  {
   "cell_type": "code",
   "execution_count": 12,
   "metadata": {},
   "outputs": [],
   "source": [
    "df['authors'] = df['authors'].apply(literal_eval) #convert to list type\n",
    "df = df.explode('authors')"
   ]
  },
  {
   "cell_type": "markdown",
   "metadata": {},
   "source": [
    "### Unpack categories"
   ]
  },
  {
   "cell_type": "code",
   "execution_count": 13,
   "metadata": {},
   "outputs": [],
   "source": [
    "df['categories'] = df['categories'].apply(literal_eval) #convert to list type\n",
    "df = df.explode('categories')"
   ]
  },
  {
   "cell_type": "markdown",
   "metadata": {},
   "source": [
    "### Merge com a tabela categories para buscar o nome da categoria"
   ]
  },
  {
   "cell_type": "code",
   "execution_count": 14,
   "metadata": {},
   "outputs": [],
   "source": [
    "df = df.merge(df_categories, left_on='categories', right_on='category_id')"
   ]
  },
  {
   "cell_type": "markdown",
   "metadata": {},
   "source": [
    "### Merge com a tabela authors"
   ]
  },
  {
   "cell_type": "code",
   "execution_count": 15,
   "metadata": {},
   "outputs": [],
   "source": [
    "df = df.merge(df_authors, left_on='authors', right_on='author_id', how = 'left')"
   ]
  },
  {
   "cell_type": "markdown",
   "metadata": {},
   "source": [
    "### Merge com a tabela formats"
   ]
  },
  {
   "cell_type": "code",
   "execution_count": 16,
   "metadata": {},
   "outputs": [],
   "source": [
    "df = df.merge(df_formats, left_on='format', right_on='format_id')"
   ]
  },
  {
   "cell_type": "code",
   "execution_count": 17,
   "metadata": {},
   "outputs": [],
   "source": [
    "df_final = df[['book_id','title', 'category_name', 'author_name', 'format_name', 'bestsellers-rank', 'rating-avg', 'publication-date']]"
   ]
  },
  {
   "cell_type": "code",
   "execution_count": 18,
   "metadata": {},
   "outputs": [],
   "source": [
    "df[['book_id','title', 'category_name', 'author_name', 'format_name', 'bestsellers-rank', 'rating-avg', 'publication-date']].to_csv('data/df_final_full.csv')"
   ]
  },
  {
   "cell_type": "code",
   "execution_count": 19,
   "metadata": {},
   "outputs": [
    {
     "data": {
      "text/plain": [
       "array([9780140185850, 9780999374443, 9780880114554, ..., 9781111349547,\n",
       "       9780887240997, 9781604189278], dtype=int64)"
      ]
     },
     "execution_count": 19,
     "metadata": {},
     "output_type": "execute_result"
    }
   ],
   "source": [
    "df.id.unique()"
   ]
  },
  {
   "cell_type": "code",
   "execution_count": null,
   "metadata": {},
   "outputs": [],
   "source": []
  },
  {
   "cell_type": "code",
   "execution_count": null,
   "metadata": {},
   "outputs": [],
   "source": []
  }
 ],
 "metadata": {
  "kernelspec": {
   "display_name": "Python 3",
   "language": "python",
   "name": "python3"
  },
  "language_info": {
   "codemirror_mode": {
    "name": "ipython",
    "version": 3
   },
   "file_extension": ".py",
   "mimetype": "text/x-python",
   "name": "python",
   "nbconvert_exporter": "python",
   "pygments_lexer": "ipython3",
   "version": "3.8.5"
  }
 },
 "nbformat": 4,
 "nbformat_minor": 4
}
